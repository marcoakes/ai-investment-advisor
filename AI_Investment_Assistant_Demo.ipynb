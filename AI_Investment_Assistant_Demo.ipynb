{
 "cells": [
  {
   "cell_type": "markdown",
   "metadata": {
    "colab_type": "text",
    "id": "view-in-github"
   },
   "source": "<a href=\"https://colab.research.google.com/github/marcoakes/ai-investment-advisor/blob/main/AI_Investment_Assistant_Demo.ipynb\" target=\"_parent\"><img src=\"https://colab.research.google.com/assets/colab-badge.svg\" alt=\"Open In Colab\"/></a>"
  },
  {
   "cell_type": "markdown",
   "metadata": {
    "id": "title"
   },
   "source": [
    "# 🤖 AI Investment Research Assistant - Demo\n",
    "\n",
    "Welcome to the interactive demo of the AI Investment Research Assistant!\n",
    "\n",
    "This notebook demonstrates the core functionality of our sophisticated investment analysis tool.\n",
    "\n",
    "## ✨ Features Demonstrated:\n",
    "- 📊 Stock data analysis\n",
    "- 📈 Technical indicator calculations  \n",
    "- 🎯 Trading signal generation\n",
    "- 📊 Professional chart creation\n",
    "- 🧠 AI-powered task planning\n",
    "\n",
    "---"
   ]
  },
  {
   "cell_type": "markdown",
   "metadata": {
    "id": "setup"
   },
   "source": [
    "## 🛠️ Setup\n",
    "\n",
    "First, let's install the required dependencies and clone the repository:"
   ]
  },
  {
   "cell_type": "code",
   "execution_count": null,
   "metadata": {
    "id": "install"
   },
   "outputs": [],
   "source": "# Install required packages\n!pip install yfinance pandas numpy matplotlib seaborn reportlab python-pptx plotly scipy requests\n\n# Clone the repository\n!git clone https://github.com/marcoakes/ai-investment-advisor.git\n%cd ai-investment-advisor\n\n# Set up Python path\nimport sys\nimport os\nsys.path.append('/content/ai-investment-advisor')\n\nprint(\"✅ Setup complete!\")"
  },
  {
   "cell_type": "markdown",
   "metadata": {
    "id": "import"
   },
   "source": [
    "## 📦 Import Libraries\n",
    "\n",
    "Import the AI Investment Research Assistant components:"
   ]
  },
  {
   "cell_type": "code",
   "execution_count": null,
   "metadata": {
    "id": "imports"
   },
   "outputs": [],
   "source": [
    "# Core components\n",
    "from investment_advisor.core.base import ToolRegistry\n",
    "from investment_advisor.core.session import SessionMemory\n",
    "from investment_advisor.core.reasoning import TaskPlanner, TaskExecutor\n",
    "\n",
    "# Data tools\n",
    "from investment_advisor.data.stock_data import YahooFinanceAPI, StockDataAggregator\n",
    "\n",
    "# Analysis tools\n",
    "from investment_advisor.analysis.technical import TechnicalAnalyzer, TradingSignals\n",
    "from investment_advisor.analysis.backtesting import SimpleBacktester\n",
    "\n",
    "# Output tools\n",
    "from investment_advisor.output.charts import ChartGenerator\n",
    "\n",
    "# Standard libraries\n",
    "import pandas as pd\n",
    "import matplotlib.pyplot as plt\n",
    "import warnings\n",
    "warnings.filterwarnings('ignore')\n",
    "\n",
    "print(\"📦 All libraries imported successfully!\")"
   ]
  },
  {
   "cell_type": "markdown",
   "metadata": {
    "id": "initialize"
   },
   "source": [
    "## 🚀 Initialize the System\n",
    "\n",
    "Set up the AI Investment Research Assistant:"
   ]
  },
  {
   "cell_type": "code",
   "execution_count": null,
   "metadata": {
    "id": "init"
   },
   "outputs": [],
   "source": [
    "# Initialize core components\n",
    "tool_registry = ToolRegistry()\n",
    "session_memory = SessionMemory()\n",
    "task_planner = TaskPlanner(tool_registry, session_memory)\n",
    "task_executor = TaskExecutor(tool_registry, session_memory)\n",
    "\n",
    "# Register tools\n",
    "tools = [\n",
    "    YahooFinanceAPI(),\n",
    "    StockDataAggregator(),\n",
    "    TechnicalAnalyzer(),\n",
    "    TradingSignals(),\n",
    "    SimpleBacktester(),\n",
    "    ChartGenerator(output_dir='/content/charts')\n",
    "]\n",
    "\n",
    "for tool in tools:\n",
    "    tool_registry.register_tool(tool)\n",
    "\n",
    "# Create output directories\n",
    "os.makedirs('/content/charts', exist_ok=True)\n",
    "os.makedirs('/content/reports', exist_ok=True)\n",
    "\n",
    "print(\"🤖 AI Investment Research Assistant initialized!\")\n",
    "print(f\"📊 Registered {len(tools)} analysis tools\")"
   ]
  },
  {
   "cell_type": "code",
   "source": "# Test basic functionality to ensure everything is working\nprint(\"🧪 Testing basic functionality...\")\n\ntry:\n    # Test data fetching\n    yahoo_test = YahooFinanceAPI()\n    test_result = yahoo_test.execute(\"AAPL\", period=\"5d\")\n    \n    if test_result.success:\n        print(\"✅ Data fetching: Working\")\n        test_data = test_result.data['historical_data']\n        \n        # Test technical analysis\n        tech_test = TechnicalAnalyzer()\n        tech_test_result = tech_test.execute(test_data, indicators=['sma_20', 'rsi'])\n        \n        if tech_test_result.success:\n            print(\"✅ Technical analysis: Working\")\n        else:\n            print(f\"❌ Technical analysis failed: {tech_test_result.error}\")\n    else:\n        print(f\"❌ Data fetching failed: {test_result.error}\")\n        \n    print(\"🎉 System is ready for demos!\")\n    \nexcept Exception as e:\n    print(f\"❌ Setup test failed: {str(e)}\")\n    print(\"💡 Try running the previous cell again or restart the notebook\")",
   "metadata": {},
   "execution_count": null,
   "outputs": []
  },
  {
   "cell_type": "markdown",
   "metadata": {
    "id": "demo1"
   },
   "source": [
    "## 📊 Demo 1: Stock Analysis\n",
    "\n",
    "Let's analyze a popular stock (Apple - AAPL):"
   ]
  },
  {
   "cell_type": "code",
   "execution_count": null,
   "metadata": {
    "id": "demo1-code"
   },
   "outputs": [],
   "source": [
    "# Analyze Apple stock\n",
    "print(\"🔍 Analyzing Apple (AAPL) stock...\")\n",
    "\n",
    "# Parse query\n",
    "query_info = task_planner.parse_query(\"analyze AAPL stock\")\n",
    "print(f\"📋 Query type: {query_info['query_type']}\")\n",
    "print(f\"📊 Symbols: {query_info['symbols']}\")\n",
    "\n",
    "# Create and execute plan\n",
    "tasks = task_planner.create_task_plan(query_info)\n",
    "print(f\"⚙️ Planned {len(tasks)} tasks\")\n",
    "\n",
    "results = task_executor.execute_plan(tasks)\n",
    "\n",
    "# Display results\n",
    "for task_id, result in results.items():\n",
    "    if result.success:\n",
    "        print(f\"✅ {task_id}: Success\")\n",
    "    else:\n",
    "        print(f\"❌ {task_id}: {result.error}\")"
   ]
  },
  {
   "cell_type": "markdown",
   "metadata": {
    "id": "demo2"
   },
   "source": [
    "## 📈 Demo 2: Technical Analysis Deep Dive\n",
    "\n",
    "Let's examine the technical indicators in detail:"
   ]
  },
  {
   "cell_type": "code",
   "execution_count": null,
   "metadata": {
    "id": "demo2-code"
   },
   "outputs": [],
   "source": [
    "# Get stock data directly\n",
    "yahoo_api = YahooFinanceAPI()\n",
    "data_result = yahoo_api.execute(\"AAPL\", period=\"6mo\")\n",
    "\n",
    "if data_result.success:\n",
    "    stock_data = data_result.data['historical_data']\n",
    "    company_info = data_result.data['company_info']\n",
    "    \n",
    "    print(f\"📊 {company_info.get('longName', 'AAPL')}\")\n",
    "    print(f\"💰 Current Price: ${company_info.get('currentPrice', 'N/A')}\")\n",
    "    print(f\"🏢 Sector: {company_info.get('sector', 'N/A')}\")\n",
    "    print(f\"📅 Data points: {len(stock_data)}\")\n",
    "    \n",
    "    # Display recent data\n",
    "    print(\"\\n📊 Recent Price Data:\")\n",
    "    print(stock_data[['Open', 'High', 'Low', 'Close', 'Volume']].tail())\n",
    "else:\n",
    "    print(f\"❌ Failed to fetch data: {data_result.error}\")"
   ]
  },
  {
   "cell_type": "markdown",
   "metadata": {
    "id": "demo3"
   },
   "source": [
    "## 🔍 Demo 3: Technical Indicators\n",
    "\n",
    "Calculate and visualize technical indicators:"
   ]
  },
  {
   "cell_type": "code",
   "execution_count": null,
   "metadata": {
    "id": "demo3-code"
   },
   "outputs": [],
   "source": "if data_result.success:\n    # Calculate technical indicators\n    technical_analyzer = TechnicalAnalyzer()\n    tech_result = technical_analyzer.execute(\n        stock_data, \n        indicators=['sma_20', 'sma_50', 'rsi', 'macd', 'bollinger_bands']\n    )\n    \n    if tech_result.success:\n        indicators = tech_result.data\n        \n        # Create visualization\n        fig, ((ax1, ax2), (ax3, ax4)) = plt.subplots(2, 2, figsize=(15, 10))\n        \n        # Price with moving averages\n        ax1.plot(stock_data.index, stock_data['Close'], label='Close', linewidth=2)\n        if 'sma_20' in indicators:\n            ax1.plot(stock_data.index, indicators['sma_20'], label='SMA 20', alpha=0.7)\n        if 'sma_50' in indicators:\n            ax1.plot(stock_data.index, indicators['sma_50'], label='SMA 50', alpha=0.7)\n        ax1.set_title('Price with Moving Averages')\n        ax1.legend()\n        ax1.grid(True, alpha=0.3)\n        \n        # RSI\n        if 'rsi' in indicators:\n            ax2.plot(stock_data.index, indicators['rsi'], color='orange', linewidth=2)\n            ax2.axhline(y=70, color='r', linestyle='--', alpha=0.5, label='Overbought')\n            ax2.axhline(y=30, color='g', linestyle='--', alpha=0.5, label='Oversold')\n            ax2.set_title('RSI (Relative Strength Index)')\n            ax2.set_ylim(0, 100)\n            ax2.legend()\n            ax2.grid(True, alpha=0.3)\n        else:\n            ax2.text(0.5, 0.5, 'RSI data not available', ha='center', va='center', transform=ax2.transAxes)\n            ax2.set_title('RSI (Relative Strength Index)')\n        \n        # MACD\n        if 'macd' in indicators and isinstance(indicators['macd'], dict):\n            macd = indicators['macd']\n            if 'macd_line' in macd and 'signal_line' in macd and 'histogram' in macd:\n                ax3.plot(stock_data.index, macd['macd_line'], label='MACD', linewidth=2)\n                ax3.plot(stock_data.index, macd['signal_line'], label='Signal', linewidth=2)\n                ax3.bar(stock_data.index, macd['histogram'], label='Histogram', alpha=0.3)\n                ax3.set_title('MACD')\n                ax3.legend()\n                ax3.grid(True, alpha=0.3)\n            else:\n                ax3.text(0.5, 0.5, 'MACD data incomplete', ha='center', va='center', transform=ax3.transAxes)\n                ax3.set_title('MACD')\n        else:\n            ax3.text(0.5, 0.5, 'MACD data not available', ha='center', va='center', transform=ax3.transAxes)\n            ax3.set_title('MACD')\n        \n        # Bollinger Bands\n        if 'bollinger_bands' in indicators and isinstance(indicators['bollinger_bands'], dict):\n            bb = indicators['bollinger_bands']\n            if 'upper_band' in bb and 'middle_band' in bb and 'lower_band' in bb:\n                ax4.plot(stock_data.index, stock_data['Close'], label='Close', linewidth=2)\n                ax4.plot(stock_data.index, bb['upper_band'], label='Upper BB', linestyle='--', alpha=0.7)\n                ax4.plot(stock_data.index, bb['middle_band'], label='Middle BB', alpha=0.7)\n                ax4.plot(stock_data.index, bb['lower_band'], label='Lower BB', linestyle='--', alpha=0.7)\n                ax4.fill_between(stock_data.index, bb['upper_band'], bb['lower_band'], alpha=0.1)\n                ax4.set_title('Bollinger Bands')\n                ax4.legend()\n                ax4.grid(True, alpha=0.3)\n            else:\n                ax4.plot(stock_data.index, stock_data['Close'], label='Close', linewidth=2)\n                ax4.text(0.5, 0.5, 'Bollinger Bands data incomplete', ha='center', va='center', transform=ax4.transAxes)\n                ax4.set_title('Bollinger Bands')\n        else:\n            ax4.plot(stock_data.index, stock_data['Close'], label='Close', linewidth=2)\n            ax4.text(0.5, 0.5, 'Bollinger Bands data not available', ha='center', va='center', transform=ax4.transAxes)\n            ax4.set_title('Bollinger Bands')\n        \n        plt.tight_layout()\n        plt.show()\n        \n        # Show current indicator values\n        print(\"\\n📊 Current Technical Indicators:\")\n        if 'sma_20' in indicators:\n            print(f\"SMA 20: ${indicators['sma_20'].iloc[-1]:.2f}\")\n        if 'sma_50' in indicators:\n            print(f\"SMA 50: ${indicators['sma_50'].iloc[-1]:.2f}\")\n        if 'rsi' in indicators:\n            print(f\"RSI: {indicators['rsi'].iloc[-1]:.2f}\")\n        if 'macd' in indicators and isinstance(indicators['macd'], dict) and 'macd_line' in indicators['macd']:\n            print(f\"MACD: {indicators['macd']['macd_line'].iloc[-1]:.4f}\")\n        \n    else:\n        print(f\"❌ Technical analysis failed: {tech_result.error}\")\nelse:\n    print(\"❌ No stock data available for technical analysis\")"
  },
  {
   "cell_type": "markdown",
   "metadata": {
    "id": "demo4"
   },
   "source": [
    "## 🎯 Demo 4: Trading Signals\n",
    "\n",
    "Generate trading signals based on technical analysis:"
   ]
  },
  {
   "cell_type": "code",
   "execution_count": null,
   "metadata": {
    "id": "demo4-code"
   },
   "outputs": [],
   "source": "# Initialize variables if they don't exist\nif 'data_result' not in locals():\n    yahoo_api = YahooFinanceAPI() \n    data_result = yahoo_api.execute(\"AAPL\", period=\"6mo\")\n    if data_result.success:\n        stock_data = data_result.data['historical_data']\n\nif 'tech_result' not in locals():\n    if data_result.success:\n        technical_analyzer = TechnicalAnalyzer()\n        tech_result = technical_analyzer.execute(stock_data, indicators=['sma_20', 'sma_50', 'rsi', 'macd', 'bollinger_bands'])\n\nif data_result.success and 'tech_result' in locals() and tech_result.success:\n    # Generate trading signals\n    trading_signals = TradingSignals()\n    signals_result = trading_signals.execute(stock_data, tech_result.data)\n    \n    if signals_result.success:\n        signals = signals_result.data\n        \n        # Visualize signals\n        fig, (ax1, ax2) = plt.subplots(2, 1, figsize=(15, 8))\n        \n        # Price with buy/sell signals\n        ax1.plot(stock_data.index, stock_data['Close'], label='Close Price', linewidth=2)\n        \n        if 'overall_signal' in signals:\n            overall = signals['overall_signal']\n            # Create boolean masks for buy/sell signals\n            buy_mask = overall == 1\n            sell_mask = overall == -1\n            \n            if buy_mask.any():\n                buy_points = stock_data.loc[buy_mask]\n                ax1.scatter(buy_points.index, buy_points['Close'], \n                           color='green', marker='^', s=100, label='Buy Signal', alpha=0.7)\n            \n            if sell_mask.any():\n                sell_points = stock_data.loc[sell_mask]\n                ax1.scatter(sell_points.index, sell_points['Close'], \n                           color='red', marker='v', s=100, label='Sell Signal', alpha=0.7)\n        \n        ax1.set_title('Trading Signals')\n        ax1.legend()\n        ax1.grid(True, alpha=0.3)\n        \n        # Signal strength over time\n        if 'overall_signal' in signals:\n            ax2.plot(stock_data.index, signals['overall_signal'], \n                    linewidth=2, label='Signal Strength')\n            ax2.axhline(y=0, color='black', linestyle='-', alpha=0.3)\n            ax2.axhline(y=1, color='green', linestyle='--', alpha=0.5, label='Buy')\n            ax2.axhline(y=-1, color='red', linestyle='--', alpha=0.5, label='Sell')\n            ax2.set_title('Signal Strength Over Time')\n            ax2.set_ylabel('Signal (-1: Sell, 0: Hold, 1: Buy)')\n            ax2.legend()\n            ax2.grid(True, alpha=0.3)\n        \n        plt.tight_layout()\n        plt.show()\n        \n        # Signal summary\n        if 'overall_signal' in signals:\n            current_signal = signals['overall_signal'].iloc[-1]\n            signal_text = \"BUY 📈\" if current_signal > 0 else \"SELL 📉\" if current_signal < 0 else \"HOLD ⏸️\"\n            print(f\"\\n🎯 Current Signal: {signal_text}\")\n            \n            # Signal statistics\n            buy_count = (signals['overall_signal'] == 1).sum()\n            sell_count = (signals['overall_signal'] == -1).sum()\n            hold_count = (signals['overall_signal'] == 0).sum()\n            \n            print(f\"📊 Signal Distribution:\")\n            print(f\"   Buy signals: {buy_count}\")\n            print(f\"   Sell signals: {sell_count}\")\n            print(f\"   Hold periods: {hold_count}\")\n        else:\n            print(\"⚠️ No overall signal data available\")\n    else:\n        print(f\"❌ Signal generation failed: {signals_result.error}\")\nelse:\n    print(\"❌ Cannot generate signals: missing data or technical analysis results\")"
  },
  {
   "cell_type": "markdown",
   "metadata": {
    "id": "demo5"
   },
   "source": [
    "## 💡 Demo 5: Interactive Query\n",
    "\n",
    "Try your own stock analysis query:"
   ]
  },
  {
   "cell_type": "code",
   "execution_count": null,
   "metadata": {
    "id": "demo5-code"
   },
   "outputs": [],
   "source": "# Interactive demo - change the stock symbol or query\nuser_query = \"analyze TSLA\"  # Change this to any stock symbol\n\nprint(f\"🔍 Processing query: '{user_query}'\")\n\n# Parse and execute\nquery_info = task_planner.parse_query(user_query)\nprint(f\"📋 Detected query type: {query_info['query_type']}\")\nprint(f\"📊 Symbols found: {query_info['symbols']}\")\n\nif query_info['symbols']:\n    # Quick analysis\n    symbol = query_info['symbols'][0]\n    \n    # Initialize yahoo_api if not already defined\n    if 'yahoo_api' not in locals():\n        yahoo_api = YahooFinanceAPI()\n    \n    quick_result = yahoo_api.execute(symbol, period=\"3mo\")\n    \n    if quick_result.success:\n        data = quick_result.data['historical_data']\n        info = quick_result.data['company_info']\n        \n        print(f\"\\n🏢 {info.get('longName', symbol)}\")\n        print(f\"💰 Current Price: ${info.get('currentPrice', info.get('regularMarketPrice', 'N/A'))}\")\n        print(f\"📈 52 Week High: ${info.get('fiftyTwoWeekHigh', 'N/A')}\")\n        print(f\"📉 52 Week Low: ${info.get('fiftyTwoWeekLow', 'N/A')}\")\n        market_cap = info.get('marketCap', 'N/A')\n        if isinstance(market_cap, (int, float)):\n            market_cap = f\"${market_cap:,.0f}\"\n        print(f\"🏢 Market Cap: {market_cap}\")\n        \n        # Simple price chart\n        plt.figure(figsize=(12, 6))\n        plt.plot(data.index, data['Close'], linewidth=2, label=f'{symbol} Close Price')\n        plt.title(f'{symbol} - 3 Month Price Chart')\n        plt.xlabel('Date')\n        plt.ylabel('Price ($)')\n        plt.legend()\n        plt.grid(True, alpha=0.3)\n        plt.xticks(rotation=45)\n        plt.tight_layout()\n        plt.show()\n        \n        # Price statistics\n        if len(data) > 0:\n            price_change = data['Close'].iloc[-1] - data['Close'].iloc[0]\n            price_change_pct = (price_change / data['Close'].iloc[0]) * 100\n            \n            print(f\"\\n📊 3-Month Performance:\")\n            print(f\"   Price change: ${price_change:.2f}\")\n            print(f\"   Percentage change: {price_change_pct:.2f}%\")\n            print(f\"   Volatility (std): {data['Close'].std():.2f}\")\n        else:\n            print(\"\\n❌ Insufficient data for performance calculations\")\n        \n    else:\n        print(f\"❌ Failed to analyze {symbol}: {quick_result.error}\")\nelse:\n    print(\"❌ No valid stock symbols found in query\")"
  },
  {
   "cell_type": "markdown",
   "metadata": {
    "id": "conclusion"
   },
   "source": "## 🎉 Conclusion\n\nCongratulations! You've successfully explored the AI Investment Research Assistant.\n\n### ✨ What you've learned:\n- How to fetch and analyze stock data\n- Technical indicator calculations (RSI, MACD, Bollinger Bands)\n- Trading signal generation\n- Data visualization techniques\n- AI-powered task planning\n\n### 🚀 Next Steps:\n1. **Install locally** for full CLI experience\n2. **Try different stocks** and time periods\n3. **Explore backtesting** capabilities\n4. **Generate reports** (PDF/PowerPoint)\n5. **Contribute** to the project on GitHub\n\n### 📚 Resources:\n- [GitHub Repository](https://github.com/marcoakes/ai-investment-advisor)\n- [Documentation](https://github.com/marcoakes/ai-investment-advisor#readme)\n- [Contributing Guide](https://github.com/marcoakes/ai-investment-advisor/blob/main/CONTRIBUTING.md)\n\n---\n\n**⚠️ Disclaimer:** This tool is for educational and research purposes only. Always conduct your own due diligence and consult with financial professionals before making investment decisions.\n\n**🌟 If you found this useful, please star the repository!**"
  }
 ],
 "metadata": {
  "colab": {
   "collapsed_sections": [],
   "name": "AI_Investment_Assistant_Demo.ipynb",
   "provenance": []
  },
  "kernelspec": {
   "display_name": "Python 3",
   "language": "python",
   "name": "python3"
  },
  "language_info": {
   "codemirror_mode": {
    "name": "ipython",
    "version": 3
   },
   "file_extension": ".py",
   "mimetype": "text/x-python",
   "name": "python",
   "nbconvert_exporter": "python",
   "pygments_lexer": "ipython3",
   "version": "3.8.5"
  }
 },
 "nbformat": 4,
 "nbformat_minor": 4
}